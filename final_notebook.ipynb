{
 "cells": [
  {
   "cell_type": "markdown",
   "metadata": {},
   "source": [
    "Oscar Meurer\n",
    "\n",
    "Guillaume Ferreol\n",
    "\n",
    "Nicolas Reboullet"
   ]
  },
  {
   "cell_type": "markdown",
   "metadata": {},
   "source": [
    "# OBJECTIVES:\n",
    "\n",
    "## General Objectives\n",
    "\n",
    "Write a Python notebook that will \n",
    "1) explain with your own words what information the paper brings with respect to what we studied in class and \n",
    "2) illustrate the results of the paper by running some experiments. \n",
    "\n",
    "You should design these experiments in order to highlight the pros and the cons of the method proposed in the paper.\n",
    "\n",
    "## Paper-Related Objectives\n",
    "\n",
    "- This paper studies a a general family of algorithms known as FTRL (Follow The Regularized Leader), but note that when the regularizer is R(w) = ||w||^2, this is exactly the same as OGA. \n",
    "- In class, we calibrated the gradient step in OGA as depending on the Lipschitz constant of the functions to optimize. \n",
    "- This paper proposes two methods that does not require to know this constant: AdaFTRL and Solo FTRL. \n",
    "- Focus on the second one: Solo FTRL. Describe the method, explain how Theorem 2 improves on the results seen in class. Illustrate this improvement on simulations.\n"
   ]
  },
  {
   "cell_type": "markdown",
   "metadata": {},
   "source": [
    "# Scale-Free Algorithms for Online Gradient Descent"
   ]
  },
  {
   "cell_type": "markdown",
   "metadata": {},
   "source": [
    "https://arxiv.org/abs/1502.05744v2"
   ]
  },
  {
   "cell_type": "markdown",
   "metadata": {},
   "source": [
    "In this notebook, we will: \n",
    "\n",
    "1. Remember the theory about Online Gradient Descent, \n",
    "2. Implement the Gradient Descent algorithm, \n",
    "3. Explain the theory behind SOLO FLTR, what the paper brings, \n",
    "4. Implement the algorithm of SOLOT SOLO FLTR, \n",
    "5. Compare the performance of SOLO FLTR with the Gradient Descent algorithm."
   ]
  },
  {
   "cell_type": "markdown",
   "metadata": {},
   "source": [
    "## Theoretical reminder of Online Optimization Algorithm"
   ]
  },
  {
   "cell_type": "markdown",
   "metadata": {},
   "source": [
    "The Online Gradient Algorithm (OGA) can be described as follows:\n",
    "\n",
    "\\begin{align*}\n",
    "& \\text{Initialize: } \\theta_0 \\\\\n",
    "& \\text{For } t = 1, 2, \\ldots \\\\\n",
    "& \\quad \\text{Receive } x_t \\\\\n",
    "& \\quad \\text{Compute loss } \\ell_t = \\ell(f(x_t; \\theta_{t-1}), y_t) \\\\\n",
    "& \\quad \\text{Compute gradient } g_t = \\nabla_{\\theta_{t-1}} \\ell_t \\\\\n",
    "& \\quad \\text{Update: } \\theta_t = \\theta_{t-1} - \\eta g_t\n",
    "\\end{align*}\n",
    "\n",
    "where \n",
    "1. $\\theta_t$ represents the model parameters at time $t$, \n",
    "2. $x_t$ is the input data at time $t$, \n",
    "3. $f$ is the model function, \n",
    "4. $y_t$ is the true label or target at time $t$, \n",
    "5. $\\ell$ is the loss function, \n",
    "6. $g_t$ is the gradient of the loss function with respect to the model parameters, \n",
    "7. and $\\eta$ is the learning rate."
   ]
  },
  {
   "cell_type": "markdown",
   "metadata": {},
   "source": [
    "### Theorem on the regret"
   ]
  },
  {
   "cell_type": "markdown",
   "metadata": {},
   "source": [
    "![Image Title](theorem_OGA_regret.png)"
   ]
  },
  {
   "cell_type": "markdown",
   "metadata": {},
   "source": [
    "## Implementation of Online Gradient Descent"
   ]
  },
  {
   "cell_type": "code",
   "execution_count": 2,
   "metadata": {},
   "outputs": [],
   "source": [
    "import numpy as np\n",
    "import matplotlib.pyplot as plt"
   ]
  },
  {
   "cell_type": "markdown",
   "metadata": {},
   "source": [
    "Let's take this online loss function : "
   ]
  },
  {
   "cell_type": "markdown",
   "metadata": {},
   "source": [
    "$$ L_{\\epsilon, p}(u) = max(|u| − ε, 0)^p$$  "
   ]
  },
  {
   "cell_type": "code",
   "execution_count": 5,
   "metadata": {},
   "outputs": [],
   "source": [
    "def OnlineLoss(param, x, y, degree=1, eps=0):\n",
    "\n",
    "    \"\"\" Returns the loss of a single point regarding y (dim 1) and x (multi dimension point)\"\"\"\n",
    "    l = np.max(np.abs(y-np.dot(param, x))-eps,0)**degree\n",
    "    return(l)"
   ]
  },
  {
   "cell_type": "code",
   "execution_count": 4,
   "metadata": {},
   "outputs": [
    {
     "ename": "ValueError",
     "evalue": "shapes (1,) and (10,) not aligned: 1 (dim 0) != 10 (dim 0)",
     "output_type": "error",
     "traceback": [
      "\u001b[0;31m---------------------------------------------------------------------------\u001b[0m",
      "\u001b[0;31mValueError\u001b[0m                                Traceback (most recent call last)",
      "Cell \u001b[0;32mIn[4], line 16\u001b[0m\n\u001b[1;32m     14\u001b[0m \u001b[38;5;28;01mfor\u001b[39;00m i, degree \u001b[38;5;129;01min\u001b[39;00m \u001b[38;5;28menumerate\u001b[39m(degrees):\n\u001b[1;32m     15\u001b[0m     \u001b[38;5;28;01mfor\u001b[39;00m j, eps \u001b[38;5;129;01min\u001b[39;00m \u001b[38;5;28menumerate\u001b[39m(epsilons):\n\u001b[0;32m---> 16\u001b[0m         losses \u001b[38;5;241m=\u001b[39m \u001b[43m[\u001b[49m\u001b[43mOnlineLoss\u001b[49m\u001b[43m(\u001b[49m\u001b[43mp\u001b[49m\u001b[43m,\u001b[49m\u001b[43m \u001b[49m\u001b[43mx\u001b[49m\u001b[43m,\u001b[49m\u001b[43m \u001b[49m\u001b[43my\u001b[49m\u001b[43m,\u001b[49m\u001b[43m \u001b[49m\u001b[43mdegree\u001b[49m\u001b[43m,\u001b[49m\u001b[43m \u001b[49m\u001b[43meps\u001b[49m\u001b[43m)\u001b[49m\u001b[43m \u001b[49m\u001b[38;5;28;43;01mfor\u001b[39;49;00m\u001b[43m \u001b[49m\u001b[43mp\u001b[49m\u001b[43m \u001b[49m\u001b[38;5;129;43;01min\u001b[39;49;00m\u001b[43m \u001b[49m\u001b[43mparams\u001b[49m\u001b[43m]\u001b[49m\n\u001b[1;32m     17\u001b[0m         ax[i, j]\u001b[38;5;241m.\u001b[39mplot([p[\u001b[38;5;241m0\u001b[39m] \u001b[38;5;28;01mfor\u001b[39;00m p \u001b[38;5;129;01min\u001b[39;00m params], losses)\n\u001b[1;32m     18\u001b[0m         ax[i, j]\u001b[38;5;241m.\u001b[39mset_title(\u001b[38;5;124mf\u001b[39m\u001b[38;5;124m'\u001b[39m\u001b[38;5;124mDegree=\u001b[39m\u001b[38;5;132;01m{\u001b[39;00mdegree\u001b[38;5;132;01m}\u001b[39;00m\u001b[38;5;124m, Epsilon=\u001b[39m\u001b[38;5;132;01m{\u001b[39;00meps\u001b[38;5;132;01m}\u001b[39;00m\u001b[38;5;124m'\u001b[39m)\n",
      "Cell \u001b[0;32mIn[4], line 16\u001b[0m, in \u001b[0;36m<listcomp>\u001b[0;34m(.0)\u001b[0m\n\u001b[1;32m     14\u001b[0m \u001b[38;5;28;01mfor\u001b[39;00m i, degree \u001b[38;5;129;01min\u001b[39;00m \u001b[38;5;28menumerate\u001b[39m(degrees):\n\u001b[1;32m     15\u001b[0m     \u001b[38;5;28;01mfor\u001b[39;00m j, eps \u001b[38;5;129;01min\u001b[39;00m \u001b[38;5;28menumerate\u001b[39m(epsilons):\n\u001b[0;32m---> 16\u001b[0m         losses \u001b[38;5;241m=\u001b[39m [\u001b[43mOnlineLoss\u001b[49m\u001b[43m(\u001b[49m\u001b[43mp\u001b[49m\u001b[43m,\u001b[49m\u001b[43m \u001b[49m\u001b[43mx\u001b[49m\u001b[43m,\u001b[49m\u001b[43m \u001b[49m\u001b[43my\u001b[49m\u001b[43m,\u001b[49m\u001b[43m \u001b[49m\u001b[43mdegree\u001b[49m\u001b[43m,\u001b[49m\u001b[43m \u001b[49m\u001b[43meps\u001b[49m\u001b[43m)\u001b[49m \u001b[38;5;28;01mfor\u001b[39;00m p \u001b[38;5;129;01min\u001b[39;00m params]\n\u001b[1;32m     17\u001b[0m         ax[i, j]\u001b[38;5;241m.\u001b[39mplot([p[\u001b[38;5;241m0\u001b[39m] \u001b[38;5;28;01mfor\u001b[39;00m p \u001b[38;5;129;01min\u001b[39;00m params], losses)\n\u001b[1;32m     18\u001b[0m         ax[i, j]\u001b[38;5;241m.\u001b[39mset_title(\u001b[38;5;124mf\u001b[39m\u001b[38;5;124m'\u001b[39m\u001b[38;5;124mDegree=\u001b[39m\u001b[38;5;132;01m{\u001b[39;00mdegree\u001b[38;5;132;01m}\u001b[39;00m\u001b[38;5;124m, Epsilon=\u001b[39m\u001b[38;5;132;01m{\u001b[39;00meps\u001b[38;5;132;01m}\u001b[39;00m\u001b[38;5;124m'\u001b[39m)\n",
      "Cell \u001b[0;32mIn[3], line 2\u001b[0m, in \u001b[0;36mOnlineLoss\u001b[0;34m(param, x, y, degree, eps)\u001b[0m\n\u001b[1;32m      1\u001b[0m \u001b[38;5;28;01mdef\u001b[39;00m \u001b[38;5;21mOnlineLoss\u001b[39m(param, x, y, degree\u001b[38;5;241m=\u001b[39m\u001b[38;5;241m1\u001b[39m, eps\u001b[38;5;241m=\u001b[39m\u001b[38;5;241m0\u001b[39m):\n\u001b[0;32m----> 2\u001b[0m     l \u001b[38;5;241m=\u001b[39m np\u001b[38;5;241m.\u001b[39mmax(np\u001b[38;5;241m.\u001b[39mabs(y\u001b[38;5;241m-\u001b[39m\u001b[43mnp\u001b[49m\u001b[38;5;241;43m.\u001b[39;49m\u001b[43mdot\u001b[49m\u001b[43m(\u001b[49m\u001b[43mparam\u001b[49m\u001b[43m,\u001b[49m\u001b[43m \u001b[49m\u001b[43mx\u001b[49m\u001b[43m)\u001b[49m)\u001b[38;5;241m-\u001b[39meps,\u001b[38;5;241m0\u001b[39m)\u001b[38;5;241m*\u001b[39m\u001b[38;5;241m*\u001b[39mdegree\n\u001b[1;32m      3\u001b[0m     \u001b[38;5;28;01mreturn\u001b[39;00m(l)\n",
      "File \u001b[0;32m<__array_function__ internals>:180\u001b[0m, in \u001b[0;36mdot\u001b[0;34m(*args, **kwargs)\u001b[0m\n",
      "\u001b[0;31mValueError\u001b[0m: shapes (1,) and (10,) not aligned: 1 (dim 0) != 10 (dim 0)"
     ]
    },
    {
     "data": {
      "image/png": "[encoded data removed]",
      "text/plain": [
       "<Figure size 1500x1000 with 9 Axes>"
      ]
     },
     "metadata": {},
     "output_type": "display_data"
    }
   ],
   "source": [
    "# Generate sample data\n",
    "np.random.seed(0)\n",
    "x = np.random.rand(10)\n",
    "y = np.random.rand(10)\n",
    "\n",
    "# Parameters to test\n",
    "params = [np.array([p]) for p in np.linspace(-2, 2, 100)]\n",
    "degrees = [1, 2, 3]\n",
    "epsilons = [0, 0.1, 0.5]\n",
    "\n",
    "# Create a plot\n",
    "fig, ax = plt.subplots(len(degrees), len(epsilons), figsize=(15, 10), sharex=True, sharey=True)\n",
    "\n",
    "for i, degree in enumerate(degrees):\n",
    "    for j, eps in enumerate(epsilons):\n",
    "        losses = [OnlineLoss(p, x, y, degree, eps) for p in params]\n",
    "        ax[i, j].plot([p[0] for p in params], losses)\n",
    "        ax[i, j].set_title(f'Degree={degree}, Epsilon={eps}')\n",
    "        ax[i, j].set_xlabel('Parameter')\n",
    "        ax[i, j].set_ylabel('Loss')\n",
    "\n",
    "plt.tight_layout()\n",
    "plt.show()"
   ]
  },
  {
   "cell_type": "markdown",
   "metadata": {},
   "source": [
    "## Explanation of what the paper brings"
   ]
  },
  {
   "cell_type": "markdown",
   "metadata": {},
   "source": [
    "SOLO FTRL (Scale-free Online Linear Optimization Follow The Regularized Leader) is a method designed to optimize online linear decision processes **without needing advance knowledge of the loss vector norms** or **the Lipschitz constants of the functions being optimized**. \n",
    "\n",
    "The regularizer used in SOLO FTRL is of the form $R(w)$, where $R(w)$ is **any strongly convex function**. This choice allows the method to **adapt its learning rate based on the observed data dynamically**, rather than relying on preset parameters. \n",
    "\n",
    "The specifics of how the learning rate adapts depend on the cumulative norms of the gradient seen thus far, aligning with the philosophy of adjusting the learning rate based on the scale of incoming data rather than preset estimates.\n"
   ]
  },
  {
   "cell_type": "markdown",
   "metadata": {},
   "source": []
  }
 ],
 "metadata": {
  "kernelspec": {
   "display_name": "Python 3",
   "language": "python",
   "name": "python3"
  },
  "language_info": {
   "codemirror_mode": {
    "name": "ipython",
    "version": 3
   },
   "file_extension": ".py",
   "mimetype": "text/x-python",
   "name": "python",
   "nbconvert_exporter": "python",
   "pygments_lexer": "ipython3",
   "version": "3.11.1"
  }
 },
 "nbformat": 4,
 "nbformat_minor": 2
}
